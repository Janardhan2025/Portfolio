{
  "nbformat": 4,
  "nbformat_minor": 0,
  "metadata": {
    "colab": {
      "provenance": [],
      "authorship_tag": "ABX9TyPzkZiZ1HzMfuGt92DgoGT8",
      "include_colab_link": true
    },
    "kernelspec": {
      "name": "python3",
      "display_name": "Python 3"
    },
    "language_info": {
      "name": "python"
    }
  },
  "cells": [
    {
      "cell_type": "markdown",
      "metadata": {
        "id": "view-in-github",
        "colab_type": "text"
      },
      "source": [
        "<a href=\"https://colab.research.google.com/github/Janardhan2025/Portfolio/blob/main/covid_19.ipynb\" target=\"_parent\"><img src=\"https://colab.research.google.com/assets/colab-badge.svg\" alt=\"Open In Colab\"/></a>"
      ]
    },
    {
      "cell_type": "code",
      "execution_count": null,
      "metadata": {
        "colab": {
          "base_uri": "https://localhost:8080/"
        },
        "id": "lxN6XXpNK7wc",
        "outputId": "5da5afeb-e1d2-43a6-a329-f2502ec2aed8"
      },
      "outputs": [
        {
          "output_type": "stream",
          "name": "stdout",
          "text": [
            "\n",
            "🌍 Global COVID-19 Update:\n",
            "--------------------------\n",
            "Confirmed Cases : 704753890\n",
            "Deaths          : 7010681\n",
            "Recovered       : 675619811\n",
            "\n",
            "\n",
            "🌍 Global COVID-19 Update:\n",
            "--------------------------\n",
            "Confirmed Cases : 704753890\n",
            "Deaths          : 7010681\n",
            "Recovered       : 675619811\n",
            "\n",
            "\n",
            "🌍 Global COVID-19 Update:\n",
            "--------------------------\n",
            "Confirmed Cases : 704753890\n",
            "Deaths          : 7010681\n",
            "Recovered       : 675619811\n",
            "\n",
            "\n",
            "🌍 Global COVID-19 Update:\n",
            "--------------------------\n",
            "Confirmed Cases : 704753890\n",
            "Deaths          : 7010681\n",
            "Recovered       : 675619811\n",
            "\n",
            "\n",
            "🌍 Global COVID-19 Update:\n",
            "--------------------------\n",
            "Confirmed Cases : 704753890\n",
            "Deaths          : 7010681\n",
            "Recovered       : 675619811\n",
            "\n",
            "\n",
            "🌍 Global COVID-19 Update:\n",
            "--------------------------\n",
            "Confirmed Cases : 704753890\n",
            "Deaths          : 7010681\n",
            "Recovered       : 675619811\n",
            "\n",
            "\n",
            "🌍 Global COVID-19 Update:\n",
            "--------------------------\n",
            "Confirmed Cases : 704753890\n",
            "Deaths          : 7010681\n",
            "Recovered       : 675619811\n",
            "\n",
            "\n",
            "🌍 Global COVID-19 Update:\n",
            "--------------------------\n",
            "Confirmed Cases : 704753890\n",
            "Deaths          : 7010681\n",
            "Recovered       : 675619811\n",
            "\n",
            "\n",
            "🌍 Global COVID-19 Update:\n",
            "--------------------------\n",
            "Confirmed Cases : 704753890\n",
            "Deaths          : 7010681\n",
            "Recovered       : 675619811\n",
            "\n"
          ]
        }
      ],
      "source": [
        "import requests\n",
        "import time\n",
        "\n",
        "def update():\n",
        "    while True:\n",
        "        try:\n",
        "            r = requests.get('https://disease.sh/v3/covid-19/all')\n",
        "            data = r.json()\n",
        "            text = f'''\n",
        "🌍 Global COVID-19 Update:\n",
        "--------------------------\n",
        "Confirmed Cases : {data[\"cases\"]}\n",
        "Deaths          : {data[\"deaths\"]}\n",
        "Recovered       : {data[\"recovered\"]}\n",
        "'''\n",
        "            print(text)\n",
        "\n",
        "        except Exception as e:\n",
        "            print(f\"[Error] Failed to fetch data:\\n{e}\")\n",
        "\n",
        "        time.sleep(60)  # Wait 60 seconds before the next update\n",
        "\n",
        "# ⚠️ To avoid infinite loop in Colab, only run once or a few times:\n",
        "update()  # You can modify this to update a limited number of times\n"
      ]
    }
  ]
}